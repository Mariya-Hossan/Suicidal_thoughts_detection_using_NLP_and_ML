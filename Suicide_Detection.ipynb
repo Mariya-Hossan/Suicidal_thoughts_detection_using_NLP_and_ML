{
 "cells": [
  {
   "cell_type": "code",
   "execution_count": 1,
   "id": "3eb7a570",
   "metadata": {},
   "outputs": [
    {
     "name": "stdout",
     "output_type": "stream",
     "text": [
      "Accuracy: 0.9177444386963269\n",
      "\n",
      "Confusion Matrix:\n",
      "[[890  83]\n",
      " [ 76 884]]\n",
      "\n",
      "Classification Report:\n",
      "              precision    recall  f1-score   support\n",
      "\n",
      "           0       0.92      0.91      0.92       973\n",
      "           1       0.91      0.92      0.92       960\n",
      "\n",
      "    accuracy                           0.92      1933\n",
      "   macro avg       0.92      0.92      0.92      1933\n",
      "weighted avg       0.92      0.92      0.92      1933\n",
      "\n"
     ]
    }
   ],
   "source": [
    "import pandas as pd\n",
    "from sklearn.model_selection import train_test_split\n",
    "from sklearn.feature_extraction.text import TfidfVectorizer\n",
    "from sklearn.tree import DecisionTreeClassifier\n",
    "from sklearn.metrics import accuracy_score, confusion_matrix, classification_report\n",
    "import pickle\n",
    "import re\n",
    "from nltk.stem import PorterStemmer\n",
    "from nltk.corpus import stopwords\n",
    "\n",
    "# Load dataset\n",
    "data = pd.read_csv(\"depression_dataset.csv\")\n",
    "df = data.fillna(\"\")  # Fill missing values\n",
    "\n",
    "# Define stemming function\n",
    "def stemming(content):\n",
    "    con = re.sub(\"[^a-zA-Z]\", \" \", content)  \n",
    "    con = con.lower()\n",
    "    con = con.split()\n",
    "    con = [PorterStemmer().stem(word) for word in con if word not in stopwords.words(\"english\")]  \n",
    "    con = \" \".join(con)\n",
    "    return con\n",
    "\n",
    "# Apply stemming to the correct column\n",
    "df[\"clean_text\"] = df[\"clean_text\"].apply(stemming)\n",
    "\n",
    "# Split data\n",
    "X_train, X_test, Y_train, Y_test = train_test_split(df[\"clean_text\"], df[\"is_depression\"], test_size=0.25)\n",
    "\n",
    "# Use TfidfVectorizer for feature extraction\n",
    "tfidf_vectorizer = TfidfVectorizer()\n",
    "x_tfidf = tfidf_vectorizer.fit_transform(X_train)\n",
    "x_tfidft = tfidf_vectorizer.transform(X_test)\n",
    "\n",
    "# Initialize and train the Decision Tree model\n",
    "model = DecisionTreeClassifier()\n",
    "model.fit(x_tfidf, Y_train)\n",
    "\n",
    "# Make predictions on test set\n",
    "predictions = model.predict(x_tfidft)\n",
    "\n",
    "# Evaluate the model\n",
    "accuracy = accuracy_score(Y_test, predictions)\n",
    "conf_matrix = confusion_matrix(Y_test, predictions)\n",
    "classification_rep = classification_report(Y_test, predictions)\n",
    "\n",
    "print(f\"Accuracy: {accuracy}\")\n",
    "print(\"\\nConfusion Matrix:\")\n",
    "print(conf_matrix)\n",
    "print(\"\\nClassification Report:\")\n",
    "print(classification_rep)\n"
   ]
  },
  {
   "cell_type": "code",
   "execution_count": 2,
   "id": "c1cafb80",
   "metadata": {},
   "outputs": [
    {
     "name": "stdout",
     "output_type": "stream",
     "text": [
      "Enter your text: i want to die\n",
      "Suicidal\n"
     ]
    }
   ],
   "source": [
    "# Save the model and vectorizer using pickle\n",
    "pickle.dump(tfidf_vectorizer, open(\"vector.pkl\", \"wb\"))\n",
    "pickle.dump(model, open(\"model.pkl\", \"wb\"))\n",
    "\n",
    "# Load the model and vectorizer\n",
    "vectorizer = pickle.load(open(\"vector.pkl\", \"rb\"))\n",
    "loaded_model = pickle.load(open(\"model.pkl\", \"rb\"))\n",
    "\n",
    "user_input = input(\"Enter your text: \")\n",
    "\n",
    "# Apply stemming to user input\n",
    "user_input_stemmed = stemming(user_input)\n",
    "\n",
    "# Use the suicide_detection function to predict\n",
    "input_data = [user_input_stemmed]\n",
    "vector_form1 = vectorizer.transform(input_data)\n",
    "prediction = loaded_model.predict(vector_form1)\n",
    "\n",
    "if prediction[0] == 1:\n",
    "    print('Suicidal')\n",
    "else:\n",
    "    print('Non-suicidal')\n"
   ]
  },
  {
   "cell_type": "code",
   "execution_count": null,
   "id": "01f827b2",
   "metadata": {},
   "outputs": [],
   "source": []
  },
  {
   "cell_type": "code",
   "execution_count": null,
   "id": "619d0b23",
   "metadata": {},
   "outputs": [],
   "source": []
  }
 ],
 "metadata": {
  "kernelspec": {
   "display_name": "Python 3 (ipykernel)",
   "language": "python",
   "name": "python3"
  },
  "language_info": {
   "codemirror_mode": {
    "name": "ipython",
    "version": 3
   },
   "file_extension": ".py",
   "mimetype": "text/x-python",
   "name": "python",
   "nbconvert_exporter": "python",
   "pygments_lexer": "ipython3",
   "version": "3.11.5"
  }
 },
 "nbformat": 4,
 "nbformat_minor": 5
}
